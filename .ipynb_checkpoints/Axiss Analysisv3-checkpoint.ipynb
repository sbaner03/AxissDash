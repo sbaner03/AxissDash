{
 "cells": [
  {
   "cell_type": "code",
   "execution_count": 1,
   "metadata": {},
   "outputs": [],
   "source": [
    "from sqlalchemy import *\n",
    "import sys\n",
    "import pandas as pd\n",
    "import numpy as np\n",
    "from datetime import datetime,timedelta,date\n",
    "import plotly.plotly as py\n",
    "import plotly.graph_objs as go\n",
    "from axissClass import Axissclass\n",
    "from axissPrintfigs import printfigs"
   ]
  },
  {
   "cell_type": "code",
   "execution_count": 2,
   "metadata": {
    "collapsed": true
   },
   "outputs": [],
   "source": [
    "analysis = Axissclass('1-1-2017','31-07-2017')"
   ]
  },
  {
   "cell_type": "code",
   "execution_count": 3,
   "metadata": {},
   "outputs": [
    {
     "data": {
      "text/html": [
       "<div>\n",
       "<style>\n",
       "    .dataframe thead tr:only-child th {\n",
       "        text-align: right;\n",
       "    }\n",
       "\n",
       "    .dataframe thead th {\n",
       "        text-align: left;\n",
       "    }\n",
       "\n",
       "    .dataframe tbody tr th {\n",
       "        vertical-align: top;\n",
       "    }\n",
       "</style>\n",
       "<table border=\"1\" class=\"dataframe\">\n",
       "  <thead>\n",
       "    <tr style=\"text-align: right;\">\n",
       "      <th></th>\n",
       "      <th>Cluster</th>\n",
       "      <th>Centre</th>\n",
       "      <th>Received</th>\n",
       "      <th>Reg.No</th>\n",
       "    </tr>\n",
       "  </thead>\n",
       "  <tbody>\n",
       "    <tr>\n",
       "      <th>13</th>\n",
       "      <td>South Bangalore</td>\n",
       "      <td>{MSH, HOSUR, ECITY, CARD}</td>\n",
       "      <td>227.0</td>\n",
       "      <td>4795</td>\n",
       "    </tr>\n",
       "    <tr>\n",
       "      <th>0</th>\n",
       "      <td>AECS</td>\n",
       "      <td>{WHIT, AECS, ITPL}</td>\n",
       "      <td>211.0</td>\n",
       "      <td>3074</td>\n",
       "    </tr>\n",
       "    <tr>\n",
       "      <th>9</th>\n",
       "      <td>Noida</td>\n",
       "      <td>{IPURAM, YOJNA, NOIDAFH, GZBCAH, NOIDA41}</td>\n",
       "      <td>194.0</td>\n",
       "      <td>2244</td>\n",
       "    </tr>\n",
       "    <tr>\n",
       "      <th>3</th>\n",
       "      <td>Central</td>\n",
       "      <td>{JPN, HSR, JAYA, BTM}</td>\n",
       "      <td>182.0</td>\n",
       "      <td>1821</td>\n",
       "    </tr>\n",
       "    <tr>\n",
       "      <th>10</th>\n",
       "      <td>North Bangalore</td>\n",
       "      <td>{VIDY, YELA, MALL, RAJA, SANJ, ASTRYELAold}</td>\n",
       "      <td>152.0</td>\n",
       "      <td>2137</td>\n",
       "    </tr>\n",
       "    <tr>\n",
       "      <th>14</th>\n",
       "      <td>South Delhi</td>\n",
       "      <td>{GK, SDA, VV}</td>\n",
       "      <td>113.0</td>\n",
       "      <td>836</td>\n",
       "    </tr>\n",
       "    <tr>\n",
       "      <th>16</th>\n",
       "      <td>West Delhi</td>\n",
       "      <td>{JANAKPURI, CANTT, DWARKA}</td>\n",
       "      <td>107.0</td>\n",
       "      <td>1344</td>\n",
       "    </tr>\n",
       "    <tr>\n",
       "      <th>7</th>\n",
       "      <td>Gur2</td>\n",
       "      <td>{GURGAON43, DLFPH1}</td>\n",
       "      <td>88.0</td>\n",
       "      <td>831</td>\n",
       "    </tr>\n",
       "    <tr>\n",
       "      <th>4</th>\n",
       "      <td>East Bangalore</td>\n",
       "      <td>{ASTRBLRD, DOML, JBN, ASTRTPARK, KAMM}</td>\n",
       "      <td>84.0</td>\n",
       "      <td>1272</td>\n",
       "    </tr>\n",
       "    <tr>\n",
       "      <th>6</th>\n",
       "      <td>Gur1</td>\n",
       "      <td>{GURGAON56, GURGAONCAH, GURGAON14}</td>\n",
       "      <td>83.0</td>\n",
       "      <td>1093</td>\n",
       "    </tr>\n",
       "    <tr>\n",
       "      <th>15</th>\n",
       "      <td>South East Bangalore</td>\n",
       "      <td>{BELL, NBEL, SARJ}</td>\n",
       "      <td>83.0</td>\n",
       "      <td>1390</td>\n",
       "    </tr>\n",
       "    <tr>\n",
       "      <th>1</th>\n",
       "      <td>BLKH</td>\n",
       "      <td>{BLKH}</td>\n",
       "      <td>71.0</td>\n",
       "      <td>943</td>\n",
       "    </tr>\n",
       "    <tr>\n",
       "      <th>11</th>\n",
       "      <td>North Delhi</td>\n",
       "      <td>{MEERA, ROHINI, GUJ}</td>\n",
       "      <td>52.0</td>\n",
       "      <td>475</td>\n",
       "    </tr>\n",
       "    <tr>\n",
       "      <th>12</th>\n",
       "      <td>Punjab</td>\n",
       "      <td>{PATIALACAH, MOHALIFH, LDHFH}</td>\n",
       "      <td>45.0</td>\n",
       "      <td>909</td>\n",
       "    </tr>\n",
       "    <tr>\n",
       "      <th>2</th>\n",
       "      <td>CBD</td>\n",
       "      <td>{LFORD, FORTISBLR}</td>\n",
       "      <td>18.0</td>\n",
       "      <td>294</td>\n",
       "    </tr>\n",
       "    <tr>\n",
       "      <th>5</th>\n",
       "      <td>FBD14</td>\n",
       "      <td>{FBD14}</td>\n",
       "      <td>14.0</td>\n",
       "      <td>215</td>\n",
       "    </tr>\n",
       "    <tr>\n",
       "      <th>8</th>\n",
       "      <td>Indore</td>\n",
       "      <td>{CHL}</td>\n",
       "      <td>3.0</td>\n",
       "      <td>134</td>\n",
       "    </tr>\n",
       "  </tbody>\n",
       "</table>\n",
       "</div>"
      ],
      "text/plain": [
       "                 Cluster                                       Centre  \\\n",
       "13       South Bangalore                    {MSH, HOSUR, ECITY, CARD}   \n",
       "0                   AECS                           {WHIT, AECS, ITPL}   \n",
       "9                  Noida    {IPURAM, YOJNA, NOIDAFH, GZBCAH, NOIDA41}   \n",
       "3                Central                        {JPN, HSR, JAYA, BTM}   \n",
       "10       North Bangalore  {VIDY, YELA, MALL, RAJA, SANJ, ASTRYELAold}   \n",
       "14           South Delhi                                {GK, SDA, VV}   \n",
       "16            West Delhi                   {JANAKPURI, CANTT, DWARKA}   \n",
       "7                   Gur2                          {GURGAON43, DLFPH1}   \n",
       "4         East Bangalore       {ASTRBLRD, DOML, JBN, ASTRTPARK, KAMM}   \n",
       "6                   Gur1           {GURGAON56, GURGAONCAH, GURGAON14}   \n",
       "15  South East Bangalore                           {BELL, NBEL, SARJ}   \n",
       "1                   BLKH                                       {BLKH}   \n",
       "11           North Delhi                         {MEERA, ROHINI, GUJ}   \n",
       "12                Punjab                {PATIALACAH, MOHALIFH, LDHFH}   \n",
       "2                    CBD                           {LFORD, FORTISBLR}   \n",
       "5                  FBD14                                      {FBD14}   \n",
       "8                 Indore                                        {CHL}   \n",
       "\n",
       "    Received  Reg.No  \n",
       "13     227.0    4795  \n",
       "0      211.0    3074  \n",
       "9      194.0    2244  \n",
       "3      182.0    1821  \n",
       "10     152.0    2137  \n",
       "14     113.0     836  \n",
       "16     107.0    1344  \n",
       "7       88.0     831  \n",
       "4       84.0    1272  \n",
       "6       83.0    1093  \n",
       "15      83.0    1390  \n",
       "1       71.0     943  \n",
       "11      52.0     475  \n",
       "12      45.0     909  \n",
       "2       18.0     294  \n",
       "5       14.0     215  \n",
       "8        3.0     134  "
      ]
     },
     "execution_count": 3,
     "metadata": {},
     "output_type": "execute_result"
    }
   ],
   "source": [
    "df = analysis.proc\n",
    "pivot = df.pivot_table(index = 'Cluster',values = ['Received','Centre','Reg.No'], aggfunc = {'Received': np.sum,'Reg.No': lambda x: list(x),'Centre':lambda x: list(x)}).reset_index()\n",
    "pivot['Reg.No'] = pivot.apply(lambda x: len(set(x['Reg.No'])),axis=1)\n",
    "pivot['Centre'] = pivot.apply(lambda x: set(x['Centre']),axis=1)\n",
    "pivot['Received'] = pivot.apply(lambda x: np.round(x['Received']*1.0/1e5,0),axis=1)\n",
    "pivot.sort_values('Received', ascending=False)"
   ]
  },
  {
   "cell_type": "code",
   "execution_count": 4,
   "metadata": {},
   "outputs": [
    {
     "name": "stdout",
     "output_type": "stream",
     "text": [
      "['JAYA']\n"
     ]
    },
    {
     "data": {
      "text/html": [
       "<iframe id=\"igraph\" scrolling=\"no\" style=\"border:none;\" seamless=\"seamless\" src=\"https://plot.ly/~sbaner03/228.embed\" height=\"525px\" width=\"100%\"></iframe>"
      ],
      "text/plain": [
       "<plotly.tools.PlotlyDisplay object>"
      ]
     },
     "execution_count": 4,
     "metadata": {},
     "output_type": "execute_result"
    }
   ],
   "source": [
    "cl = ['Central']\n",
    "cent = ['JAYA']\n",
    "df, fig = printfigs (analysis,indicator = 'Received',grplist = ['Year','Month','Classification'],\n",
    "              regionlist = ['South'],clusterlist = cl,centrelist = cent)\n",
    "py.iplot(fig)"
   ]
  },
  {
   "cell_type": "code",
   "execution_count": 8,
   "metadata": {},
   "outputs": [
    {
     "name": "stdout",
     "output_type": "stream",
     "text": [
      "['JAYA']\n"
     ]
    },
    {
     "data": {
      "text/html": [
       "<iframe id=\"igraph\" scrolling=\"no\" style=\"border:none;\" seamless=\"seamless\" src=\"https://plot.ly/~sbaner03/234.embed\" height=\"525px\" width=\"100%\"></iframe>"
      ],
      "text/plain": [
       "<plotly.tools.PlotlyDisplay object>"
      ]
     },
     "execution_count": 8,
     "metadata": {},
     "output_type": "execute_result"
    }
   ],
   "source": [
    "df, fig = printfigs (analysis,indicator = 'Reg.No',grplist = ['Year','Month','Classification'],\n",
    "              regionlist = ['South'],clusterlist = cl,centrelist = cent)\n",
    "py.iplot(fig)"
   ]
  },
  {
   "cell_type": "code",
   "execution_count": 10,
   "metadata": {},
   "outputs": [
    {
     "data": {
      "text/html": [
       "<iframe id=\"igraph\" scrolling=\"no\" style=\"border:none;\" seamless=\"seamless\" src=\"https://plot.ly/~sbaner03/232.embed\" height=\"500px\" width=\"500px\"></iframe>"
      ],
      "text/plain": [
       "<plotly.tools.PlotlyDisplay object>"
      ]
     },
     "execution_count": 10,
     "metadata": {},
     "output_type": "execute_result"
    }
   ],
   "source": [
    "\n",
    "layout = go.Layout(\n",
    "    autosize=True,\n",
    "    width=500,\n",
    "    height=500,\n",
    "    margin=go.Margin(\n",
    "        l=50,\n",
    "        r=50,\n",
    "        b=100,\n",
    "        t=100,\n",
    "        pad=4\n",
    "    )\n",
    ")\n",
    "\n",
    "fig = go.Figure(data=data, layout=layout)\n",
    "py.iplot(fig, filename='size-margins')"
   ]
  },
  {
   "cell_type": "code",
   "execution_count": null,
   "metadata": {
    "collapsed": true
   },
   "outputs": [],
   "source": []
  }
 ],
 "metadata": {
  "kernelspec": {
   "display_name": "Python 3",
   "language": "python",
   "name": "python3"
  },
  "language_info": {
   "codemirror_mode": {
    "name": "ipython",
    "version": 3
   },
   "file_extension": ".py",
   "mimetype": "text/x-python",
   "name": "python",
   "nbconvert_exporter": "python",
   "pygments_lexer": "ipython3",
   "version": "3.6.0"
  }
 },
 "nbformat": 4,
 "nbformat_minor": 2
}
